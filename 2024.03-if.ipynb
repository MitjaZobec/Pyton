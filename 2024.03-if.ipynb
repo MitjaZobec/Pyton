{
 "cells": [
  {
   "cell_type": "code",
   "execution_count": 2,
   "id": "821ff61d-57d3-4e04-a24a-b0e2d15f3f2c",
   "metadata": {},
   "outputs": [
    {
     "name": "stdin",
     "output_type": "stream",
     "text": [
      "Inserisci un carattere:  b\n"
     ]
    },
    {
     "name": "stdout",
     "output_type": "stream",
     "text": [
      "il carattere non è una vocale\n"
     ]
    }
   ],
   "source": [
    "carattere = input(\"Inserisci un carattere: \").lower()\n",
    "vocali=\"aeiou\"\n",
    "\n",
    "if carattere in vocali:\n",
    "        print(\"Il carattere è una vocale\")\n",
    "else:\n",
    "        print(\"il carattere non è una vocale\")"
   ]
  },
  {
   "cell_type": "code",
   "execution_count": 5,
   "id": "2fb5863b-0d22-465f-82e7-f5ed43accc07",
   "metadata": {},
   "outputs": [
    {
     "name": "stdin",
     "output_type": "stream",
     "text": [
      "Inserisci un numero:  5\n"
     ]
    },
    {
     "name": "stdout",
     "output_type": "stream",
     "text": [
      "il numero è minore di  10\n"
     ]
    }
   ],
   "source": [
    "numero = int(input(\"Inserisci un numero: \"))\n",
    "confronto = 10\n",
    "\n",
    "if numero > confronto:\n",
    "    print(\"Il numero è maggiore di \", confronto)\n",
    "else:\n",
    "    print(\"il numero è minore di \", confronto)"
   ]
  },
  {
   "cell_type": "code",
   "execution_count": 8,
   "id": "3740d82b-bea6-40c1-aea0-7101fd690741",
   "metadata": {},
   "outputs": [
    {
     "data": {
      "text/plain": [
       "'ciao benvenuto'"
      ]
     },
     "execution_count": 8,
     "metadata": {},
     "output_type": "execute_result"
    }
   ],
   "source": [
    "stringa_concatena = \"ciao\" + \" \" + \"benvenuto\"\n",
    "stringa_concatena"
   ]
  },
  {
   "cell_type": "code",
   "execution_count": 10,
   "id": "cb567753-1029-43a7-b217-e41d20e24a5f",
   "metadata": {},
   "outputs": [
    {
     "name": "stdin",
     "output_type": "stream",
     "text": [
      "Inserisci un numero:  12\n"
     ]
    },
    {
     "name": "stdout",
     "output_type": "stream",
     "text": [
      "Il numero è maggiore di 10\n"
     ]
    }
   ],
   "source": [
    "numero = int(input(\"Inserisci un numero: \"))\n",
    "confronto = 10\n",
    "\n",
    "if numero > confronto:\n",
    "    print(f\"Il numero è maggiore di {confronto}\")\n",
    "else:\n",
    "    print(\"il numero è minore di \", confronto)"
   ]
  },
  {
   "cell_type": "code",
   "execution_count": 12,
   "id": "1009f560-53d6-4ce7-bcdf-ad1ecd11786b",
   "metadata": {},
   "outputs": [
    {
     "name": "stdin",
     "output_type": "stream",
     "text": [
      "Inserisci un numero:  25\n"
     ]
    },
    {
     "name": "stdout",
     "output_type": "stream",
     "text": [
      "Il numero è maggiore di 20\n"
     ]
    }
   ],
   "source": [
    "numero = int(input(\"Inserisci un numero: \"))\n",
    "\n",
    "if numero >= 20:\n",
    "    print(\"Il numero è maggiore di 20\")\n",
    "elif numero >=10:\n",
    "    print(f\"Il numero è maggiore di 10\")\n",
    "else:\n",
    "    print(\"Il numero è minore di 10\")"
   ]
  },
  {
   "cell_type": "code",
   "execution_count": 15,
   "id": "e6ae9aac-88d9-4963-b3cc-1c3087df8f66",
   "metadata": {},
   "outputs": [
    {
     "name": "stdin",
     "output_type": "stream",
     "text": [
      "Inserisci un numero:  5\n"
     ]
    },
    {
     "name": "stdout",
     "output_type": "stream",
     "text": [
      "Il numero è minore di 10\n"
     ]
    }
   ],
   "source": [
    "numero = int(input(\"Inserisci un numero: \"))\n",
    "\n",
    "if numero >= 10 and numero <20:\n",
    "    print(\"Il numero è compreso tra 10 e 20\")\n",
    "elif numero >=20:\n",
    "    print(f\"Il numero è maggiore di 20\")\n",
    "else:\n",
    "    print(\"Il numero è minore di 10\")"
   ]
  },
  {
   "cell_type": "code",
   "execution_count": 21,
   "id": "5a13699b-1e11-4f4b-93ae-d870e56654e4",
   "metadata": {},
   "outputs": [
    {
     "name": "stdin",
     "output_type": "stream",
     "text": [
      "Inserisci primo numero 7\n",
      "Inserisci secondo numero 8\n"
     ]
    },
    {
     "name": "stdout",
     "output_type": "stream",
     "text": [
      "7 < 8\n"
     ]
    }
   ],
   "source": [
    "numero_1 = input(\"Inserisci primo numero\")\n",
    "numero_2 = input(\"Inserisci secondo numero\")\n",
    "\n",
    "if int(numero_1) > int(numero_2):\n",
    "    print(f\"{numero_1} è maggiore\")\n",
    "elif int(numero_1) % 2 ==0:\n",
    "    print(\"è un numero pari\")\n",
    "else:\n",
    "    print(f\"{numero_1} < {numero_2}\")"
   ]
  },
  {
   "cell_type": "code",
   "execution_count": null,
   "id": "35d9924e-81dc-47f7-ada3-c961249c5783",
   "metadata": {},
   "outputs": [],
   "source": []
  },
  {
   "cell_type": "code",
   "execution_count": null,
   "id": "50e87213-e6e3-4b0f-aaaa-92a8ce950726",
   "metadata": {},
   "outputs": [],
   "source": []
  }
 ],
 "metadata": {
  "kernelspec": {
   "display_name": "Python 3 (ipykernel)",
   "language": "python",
   "name": "python3"
  },
  "language_info": {
   "codemirror_mode": {
    "name": "ipython",
    "version": 3
   },
   "file_extension": ".py",
   "mimetype": "text/x-python",
   "name": "python",
   "nbconvert_exporter": "python",
   "pygments_lexer": "ipython3",
   "version": "3.11.7"
  }
 },
 "nbformat": 4,
 "nbformat_minor": 5
}
