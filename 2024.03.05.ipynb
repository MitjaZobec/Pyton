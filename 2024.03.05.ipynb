{
 "cells": [
  {
   "cell_type": "code",
   "execution_count": 1,
   "id": "5723ea29-aa58-4e35-8827-ecc9342d04dd",
   "metadata": {},
   "outputs": [
    {
     "data": {
      "text/plain": [
       "25"
      ]
     },
     "execution_count": 1,
     "metadata": {},
     "output_type": "execute_result"
    }
   ],
   "source": [
    "# Abbiamo 25 studenti; memorizzare questo dato in una variabile\n",
    "numero_studenti = 25\n",
    "numero_studenti"
   ]
  },
  {
   "cell_type": "code",
   "execution_count": 3,
   "id": "2efb6a3d-8e86-4010-8c3d-54db15f88ebc",
   "metadata": {},
   "outputs": [],
   "source": [
    "# Abbiamo 25 studenti; memorizzare questo dato in una variabile. \n",
    "# Arrivano altri 3 studenti; memorizzare questo dato in un'altra variabile\n",
    "numero_nuovi_studenti = 3"
   ]
  },
  {
   "cell_type": "code",
   "execution_count": 4,
   "id": "bcc02c20-2077-442d-a7b3-183d68f66c01",
   "metadata": {},
   "outputs": [
    {
     "name": "stdout",
     "output_type": "stream",
     "text": [
      "28\n"
     ]
    }
   ],
   "source": [
    "\"\"\"\n",
    "Abbiamo 25 studenti; memorizzare questo dato in una variabile. \n",
    "Arrivano altri 3 studenti; memorizzare questo dato in un'altra variabile. \n",
    "Creare un'altra variabile ancora che conterrà la somma delle prime due, poi stamparla a video.\"\"\"\n",
    "\n",
    "numero_totale_studenti = numero_studenti + numero_nuovi_studenti\n",
    "print(numero_totale_studenti)"
   ]
  },
  {
   "cell_type": "code",
   "execution_count": null,
   "id": "c12071a6-eccb-4d3f-b8f1-d0dcaf60cd66",
   "metadata": {},
   "outputs": [],
   "source": [
    "Creare una variabile che contiene la stringa \"Epicode\", quindi stamparla a video.\n",
    "\n",
    "nome = \"Epicode\""
   ]
  },
  {
   "cell_type": "code",
   "execution_count": 8,
   "id": "e59b22f5-51cc-423b-9dbe-7df69d481115",
   "metadata": {},
   "outputs": [
    {
     "name": "stdout",
     "output_type": "stream",
     "text": [
      "36\n"
     ]
    }
   ],
   "source": [
    "#Abbiamo la variabile: x = 10 Incrementarla di 2 e poi moltiplicarla per 3\n",
    "\n",
    "x = 10\n",
    "y = (x + 2) * 3\n",
    "print(y)"
   ]
  },
  {
   "cell_type": "code",
   "execution_count": 22,
   "id": "37aaf344-a8b9-4c12-9c52-f13e67ab701a",
   "metadata": {},
   "outputs": [
    {
     "name": "stdout",
     "output_type": "stream",
     "text": [
      "Compreso\n",
      "Compreso\n",
      "Non Compreso\n",
      "Non Compreso\n"
     ]
    }
   ],
   "source": [
    "\"\"\" \n",
    "Verificare, per ognuna delle seguenti stringhe, se il numero di caratteri è compreso tra 5 e 8: \n",
    "• str1 = \"Windows\" \n",
    "• str2 = \"Excel\" \n",
    "• str3 = \"Powerpoint\" \n",
    "• str4 = \"Word\"\n",
    "\"\"\"\n",
    "lista_str = [\"Windows\",\"Excel\",\"Powerpoint\",\"Word\"]\n",
    "for lista in lista_str:\n",
    "    if 5 <= len(lista) <= 8:\n",
    "        print (\"Compreso\")\n",
    "    else:\n",
    "        print(\"Non Compreso\")\n"
   ]
  },
  {
   "cell_type": "code",
   "execution_count": 32,
   "id": "2eb5e680-6aec-4ffa-a549-9d38b7c14264",
   "metadata": {},
   "outputs": [
    {
     "name": "stdout",
     "output_type": "stream",
     "text": [
      "i secondi in un anno bisestile sono:  31622400\n"
     ]
    }
   ],
   "source": [
    "# Calcolare e stampare a video quanti secondi ci sono in un anno non bisestile.\n",
    "\n",
    "secondi = 60*60*24*366\n",
    "print(\"i secondi in un anno bisestile sono: \", secondi)"
   ]
  },
  {
   "cell_type": "code",
   "execution_count": null,
   "id": "b67ff856-91d0-4814-9b16-e00a11a230d8",
   "metadata": {},
   "outputs": [],
   "source": [
    "\"\"\"Abbiamo la seguente stringa: \n",
    "my_string = \"I am studying Python\" \n",
    "• Trasformarla in modo che tutti i caratteri siano maiuscoli (uppercase) \n",
    "• Trasformarla in modo che tutti i caratteri siano minuscoli (lowercase) \n",
    "• Sostituire la sottostringa \"Python\" con la stringa \"a lot\" \n",
    "• Usare il metodo .strip(); cambia qualcosa? Perché?\n",
    "\n",
    "\"\"\""
   ]
  },
  {
   "cell_type": "code",
   "execution_count": 53,
   "id": "0d6c5c1e-ebd2-4891-b21f-6ced88089a5d",
   "metadata": {},
   "outputs": [
    {
     "name": "stdout",
     "output_type": "stream",
     "text": [
      "I am studying Python\n",
      "I am studying Python\n"
     ]
    }
   ],
   "source": [
    "my_string = \"I am studying Python\"\n",
    "\n",
    "print(my_string)\n",
    "\n",
    "my_string.upper()\n",
    "\n",
    "my_string.lower()\n",
    "\n",
    "print(my_string)"
   ]
  },
  {
   "cell_type": "code",
   "execution_count": 57,
   "id": "d2854aa0-1cd3-4940-893b-92b7b854e171",
   "metadata": {},
   "outputs": [
    {
     "data": {
      "text/plain": [
       "'I am studying a lot'"
      ]
     },
     "execution_count": 57,
     "metadata": {},
     "output_type": "execute_result"
    }
   ],
   "source": [
    "my_string.replace(\"Python\", \"a lot\")"
   ]
  },
  {
   "cell_type": "code",
   "execution_count": 58,
   "id": "f4fd906f-0781-4851-b06c-dc662034d6d3",
   "metadata": {},
   "outputs": [
    {
     "data": {
      "text/plain": [
       "'I am studying Python'"
      ]
     },
     "execution_count": 58,
     "metadata": {},
     "output_type": "execute_result"
    }
   ],
   "source": [
    "my_string.strip()"
   ]
  },
  {
   "cell_type": "code",
   "execution_count": null,
   "id": "b007714e-8978-4a2d-a426-b45c66fa3221",
   "metadata": {},
   "outputs": [],
   "source": []
  }
 ],
 "metadata": {
  "kernelspec": {
   "display_name": "Python 3 (ipykernel)",
   "language": "python",
   "name": "python3"
  },
  "language_info": {
   "codemirror_mode": {
    "name": "ipython",
    "version": 3
   },
   "file_extension": ".py",
   "mimetype": "text/x-python",
   "name": "python",
   "nbconvert_exporter": "python",
   "pygments_lexer": "ipython3",
   "version": "3.11.7"
  }
 },
 "nbformat": 4,
 "nbformat_minor": 5
}
