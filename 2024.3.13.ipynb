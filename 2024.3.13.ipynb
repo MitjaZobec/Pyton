{
 "cells": [
  {
   "cell_type": "code",
   "execution_count": null,
   "id": "d10a59b8-7b7c-48f2-a1df-ef1b8ccd815f",
   "metadata": {},
   "outputs": [],
   "source": [
    "\"\"\"\n",
    "\n",
    "Abbiamo una lista di liste: \n",
    "mat = [[0, 1, 2, 3, 4], \n",
    "[5, 6, 7, 8, 9], \n",
    "[10, 11, 12, 13, 14]] \n",
    "\n",
    "Che tipo di struttura dati o matematica potrebbe rappresentare? \n",
    "Notare che tutte le liste \"interne\" sono della stessa dimensione \n",
    "Come facciamo per accedere ad un elemento in particolare?\n",
    "\n",
    "np.array di cinque colonne e tre righe\n",
    "\n",
    "\"\"\""
   ]
  },
  {
   "cell_type": "code",
   "execution_count": 1,
   "id": "192cf7c0-f535-4cf0-ad02-e066b800164a",
   "metadata": {},
   "outputs": [],
   "source": [
    "import numpy as np\n",
    "import pandas as pd\n",
    "import math"
   ]
  },
  {
   "cell_type": "code",
   "execution_count": 4,
   "id": "8faaf312-3667-47d3-b135-ed6ec9d9a207",
   "metadata": {},
   "outputs": [],
   "source": [
    "mat = [[0, 1, 2, 3, 4], [5, 6, 7, 8, 9], [10, 11, 12, 13, 14]]"
   ]
  },
  {
   "cell_type": "code",
   "execution_count": 5,
   "id": "39e463f6-9893-4651-97d2-cbc24bd26d64",
   "metadata": {},
   "outputs": [],
   "source": [
    "mat_array = np.array(mat)"
   ]
  },
  {
   "cell_type": "code",
   "execution_count": 6,
   "id": "09fbe146-1717-4e3c-a39c-6f780ef22d99",
   "metadata": {},
   "outputs": [
    {
     "data": {
      "text/plain": [
       "array([[ 0,  1,  2,  3,  4],\n",
       "       [ 5,  6,  7,  8,  9],\n",
       "       [10, 11, 12, 13, 14]])"
      ]
     },
     "execution_count": 6,
     "metadata": {},
     "output_type": "execute_result"
    }
   ],
   "source": [
    "mat_array"
   ]
  },
  {
   "cell_type": "code",
   "execution_count": 8,
   "id": "0c4e393b-a408-4458-8031-2b1f3ab21ad0",
   "metadata": {},
   "outputs": [
    {
     "data": {
      "text/plain": [
       "(3, 5)"
      ]
     },
     "execution_count": 8,
     "metadata": {},
     "output_type": "execute_result"
    }
   ],
   "source": [
    "mat_array.shape"
   ]
  },
  {
   "cell_type": "code",
   "execution_count": 10,
   "id": "c63a24bd-d1da-4d48-8ef2-9986e8c8e87a",
   "metadata": {},
   "outputs": [
    {
     "data": {
      "text/plain": [
       "array([0, 1, 2, 3, 4])"
      ]
     },
     "execution_count": 10,
     "metadata": {},
     "output_type": "execute_result"
    }
   ],
   "source": [
    "mat_array[0,:]"
   ]
  },
  {
   "cell_type": "code",
   "execution_count": 12,
   "id": "b06c5b5c-808e-4cfa-98e1-ea03b30eb68b",
   "metadata": {},
   "outputs": [
    {
     "data": {
      "text/plain": [
       "array([5, 6, 7, 8, 9])"
      ]
     },
     "execution_count": 12,
     "metadata": {},
     "output_type": "execute_result"
    }
   ],
   "source": [
    "mat_array[-2,:]"
   ]
  },
  {
   "cell_type": "code",
   "execution_count": 43,
   "id": "41c1cb51-e74b-49fa-b2e9-30008a696de4",
   "metadata": {},
   "outputs": [
    {
     "data": {
      "text/plain": [
       "array([5, 7, 9])"
      ]
     },
     "execution_count": 43,
     "metadata": {},
     "output_type": "execute_result"
    }
   ],
   "source": [
    "mat_array[1,0::2] # seconda riga con step di 2"
   ]
  },
  {
   "cell_type": "code",
   "execution_count": 13,
   "id": "419ed91f-2580-483a-8222-f54962bda2fc",
   "metadata": {},
   "outputs": [
    {
     "data": {
      "text/plain": [
       "7"
      ]
     },
     "execution_count": 13,
     "metadata": {},
     "output_type": "execute_result"
    }
   ],
   "source": [
    "mat_array[1,2]"
   ]
  },
  {
   "cell_type": "code",
   "execution_count": null,
   "id": "5cfeb1eb-2b92-4527-82a2-0feec3efdf04",
   "metadata": {},
   "outputs": [],
   "source": [
    "\"\"\"\n",
    "\n",
    "Importiamo il modulo math e proviamo a usare le funzioni .sin() .cos() .factorial() e la variabile .pi la riconoscete?"
   ]
  },
  {
   "cell_type": "code",
   "execution_count": 26,
   "id": "16579492-1646-4240-8572-28e0fcae3dd6",
   "metadata": {},
   "outputs": [],
   "source": [
    "x = math.sin(math.pi/2)"
   ]
  },
  {
   "cell_type": "code",
   "execution_count": 27,
   "id": "851b3545-e854-4394-aefb-b8b64674c4c8",
   "metadata": {},
   "outputs": [
    {
     "data": {
      "text/plain": [
       "1.0"
      ]
     },
     "execution_count": 27,
     "metadata": {},
     "output_type": "execute_result"
    }
   ],
   "source": [
    "x"
   ]
  },
  {
   "cell_type": "code",
   "execution_count": 28,
   "id": "0cac93d3-5748-404a-9229-56eabafa49eb",
   "metadata": {},
   "outputs": [],
   "source": [
    "y = math.cos(math.pi/2)"
   ]
  },
  {
   "cell_type": "code",
   "execution_count": 29,
   "id": "0d1721ff-6d77-4c60-bb7b-5712717bd3f0",
   "metadata": {},
   "outputs": [
    {
     "data": {
      "text/plain": [
       "6.123233995736766e-17"
      ]
     },
     "execution_count": 29,
     "metadata": {},
     "output_type": "execute_result"
    }
   ],
   "source": [
    "y"
   ]
  },
  {
   "cell_type": "code",
   "execution_count": 23,
   "id": "5d7f6e6e-0f11-411a-a22d-ea079a3b0f66",
   "metadata": {},
   "outputs": [],
   "source": [
    "z = math.factorial(15)"
   ]
  },
  {
   "cell_type": "code",
   "execution_count": 24,
   "id": "dee6937b-ec45-48f0-b4ad-e158e9c59ea5",
   "metadata": {},
   "outputs": [
    {
     "data": {
      "text/plain": [
       "1307674368000"
      ]
     },
     "execution_count": 24,
     "metadata": {},
     "output_type": "execute_result"
    }
   ],
   "source": [
    "z"
   ]
  },
  {
   "cell_type": "code",
   "execution_count": 30,
   "id": "a48c32b0-90e7-444e-a9d2-36019800c50f",
   "metadata": {},
   "outputs": [],
   "source": [
    "a = math.degrees(math.pi)"
   ]
  },
  {
   "cell_type": "code",
   "execution_count": 31,
   "id": "281399e1-76fb-48fd-8db2-d486a9f360d6",
   "metadata": {},
   "outputs": [
    {
     "data": {
      "text/plain": [
       "180.0"
      ]
     },
     "execution_count": 31,
     "metadata": {},
     "output_type": "execute_result"
    }
   ],
   "source": [
    "a"
   ]
  },
  {
   "cell_type": "code",
   "execution_count": null,
   "id": "a3777252-95de-4763-a5cf-07f552fe8583",
   "metadata": {},
   "outputs": [],
   "source": [
    "\"\"\"\n",
    "L'azienda Object SpA ha creato una lista di quanti oggetti ha venduto ogni mese nell'ultimo anno: \n",
    "lst = [2000, 5500, 7200, 4320, 1280, 1900, 2500, 3900, 6410, 8150, 7100, 5350] \n",
    "trasformiamola in un array NumPy (casting): \n",
    "lst = np.array(lst)\n",
    "e rispondiamo alle domande del CEO della Object SpA: \n",
    "1 qual è stata la vendita massima mensile? E quella minima? \n",
    "2 quali sono le vendite mensili maggiori di 4999 oggetti? E quante ne sono? \n",
    "3 quali sono le vendite minori di 3000 oggetti?\n",
    "4 in media quanti oggetti sono stati venduti al mese?\n",
    "\"\"\""
   ]
  },
  {
   "cell_type": "code",
   "execution_count": 32,
   "id": "86e00fbb-4e1e-4e6d-8609-8d4382769895",
   "metadata": {},
   "outputs": [],
   "source": [
    "lst = [2000, 5500, 7200, 4320, 1280, 1900, 2500, 3900, 6410, 8150, 7100, 5350]"
   ]
  },
  {
   "cell_type": "code",
   "execution_count": 33,
   "id": "d5021c15-cd57-4cb8-8c11-162407c6ce32",
   "metadata": {},
   "outputs": [],
   "source": [
    "lst_nparray = np.array(lst)"
   ]
  },
  {
   "cell_type": "code",
   "execution_count": 34,
   "id": "70dedb5c-1ac7-48d4-afaf-a7b07b358c75",
   "metadata": {},
   "outputs": [
    {
     "data": {
      "text/plain": [
       "array([2000, 5500, 7200, 4320, 1280, 1900, 2500, 3900, 6410, 8150, 7100,\n",
       "       5350])"
      ]
     },
     "execution_count": 34,
     "metadata": {},
     "output_type": "execute_result"
    }
   ],
   "source": [
    "lst_nparray"
   ]
  },
  {
   "cell_type": "code",
   "execution_count": 35,
   "id": "89a2b02c-63df-4ea1-8b0b-628cb4659c76",
   "metadata": {},
   "outputs": [
    {
     "name": "stdout",
     "output_type": "stream",
     "text": [
      "8150\n"
     ]
    }
   ],
   "source": [
    "print(lst_nparray.max())  #1 vendita massima mensile"
   ]
  },
  {
   "cell_type": "code",
   "execution_count": 36,
   "id": "8fcd12ed-c5b3-4ac5-8b3c-eaf54914c633",
   "metadata": {},
   "outputs": [
    {
     "name": "stdout",
     "output_type": "stream",
     "text": [
      "1280\n"
     ]
    }
   ],
   "source": [
    "print(lst_nparray.min())  #1 vendita minima mensile"
   ]
  },
  {
   "cell_type": "code",
   "execution_count": 45,
   "id": "c836018e-0313-4244-b2ad-eb66d63f6c92",
   "metadata": {},
   "outputs": [
    {
     "name": "stdout",
     "output_type": "stream",
     "text": [
      "[5500 7200 6410 8150 7100 5350]\n"
     ]
    },
    {
     "data": {
      "text/plain": [
       "6"
      ]
     },
     "execution_count": 45,
     "metadata": {},
     "output_type": "execute_result"
    }
   ],
   "source": [
    "lst_nparray_filter = lst_nparray > 4999 # 2 quali sono le vendite mensili maggiori di 4999 oggetti? E quante ne sono? \n",
    "filter = lst_nparray[lst_nparray_filter]\n",
    "print(filter)\n",
    "len(filter)"
   ]
  },
  {
   "cell_type": "code",
   "execution_count": 40,
   "id": "1eb8df34-4ea8-40b5-9081-15e5a49cc052",
   "metadata": {},
   "outputs": [
    {
     "data": {
      "text/plain": [
       "array([5500, 7200, 6410, 8150, 7100, 5350])"
      ]
     },
     "execution_count": 40,
     "metadata": {},
     "output_type": "execute_result"
    }
   ],
   "source": [
    "lst_nparray[lst_nparray>4999]"
   ]
  },
  {
   "cell_type": "code",
   "execution_count": 46,
   "id": "3358f1b5-0631-4cc7-92c6-58caafa7e8ff",
   "metadata": {},
   "outputs": [
    {
     "name": "stdout",
     "output_type": "stream",
     "text": [
      "[2000 1280 1900 2500]\n"
     ]
    },
    {
     "data": {
      "text/plain": [
       "4"
      ]
     },
     "execution_count": 46,
     "metadata": {},
     "output_type": "execute_result"
    }
   ],
   "source": [
    "lst_nparray_filter_min = lst_nparray < 3000 # 3 quali sono le vendite minori di 3000 oggetti?\n",
    "filter_min = lst_nparray[lst_nparray_filter_min]\n",
    "print(filter_min)\n",
    "len(filter_min)"
   ]
  },
  {
   "cell_type": "code",
   "execution_count": 44,
   "id": "319e2f66-a25b-46d7-8e58-8beb6753c2cc",
   "metadata": {},
   "outputs": [
    {
     "name": "stdout",
     "output_type": "stream",
     "text": [
      "4634.166666666667\n"
     ]
    }
   ],
   "source": [
    "print(lst_nparray.mean()) #4 in media quanti oggetti sono stati venduti al mese?"
   ]
  },
  {
   "cell_type": "code",
   "execution_count": 50,
   "id": "9cb2c893-69a6-48a7-b78c-972938d5f785",
   "metadata": {},
   "outputs": [
    {
     "name": "stdout",
     "output_type": "stream",
     "text": [
      "4634.17\n"
     ]
    }
   ],
   "source": [
    "print(round(lst_nparray.mean(),2)) # arrotodnamento a 2 decimali"
   ]
  },
  {
   "cell_type": "code",
   "execution_count": null,
   "id": "e49356a2-e160-4eec-bce5-5f69113902ee",
   "metadata": {},
   "outputs": [],
   "source": [
    "\"\"\"\n",
    "Esercizio Consideriamo il seguente dizionario: \n",
    "fatturati_dict = {1997: 12_000, 1998: 15_000, 1999: 20_000, 2000: 23_000, 2001: 25_000, 2002: 17_000, 2003: 14_000, 2004: 21_000} \n",
    "Consideriamo ora la seguente Series: \n",
    "fatturati_series = pd.Series([12_000, 15_000, 20_000, 23_000, 25_000, 17_000, 14_000, 21_000], \n",
    "index=range(1997, 2005)) \n",
    "Possiamo accedere alle stesse informazioni nello stesso modo: fatturati_dict[1997] fatturati_series[1997] \n",
    "Dunque qual è la differenza tra i due tipi di dato? Cosa potremmo fare con la Series che non possiamo fare con il dizionario?\n",
    "\"\"\""
   ]
  },
  {
   "cell_type": "code",
   "execution_count": 51,
   "id": "1634361f-d687-47cb-a3c6-23c488551b2b",
   "metadata": {},
   "outputs": [],
   "source": [
    "fatturati_dict = {1997: 12_000, 1998: 15_000, 1999: 20_000, 2000: 23_000, 2001: 25_000, 2002: 17_000, 2003: 14_000, 2004: 21_000}"
   ]
  },
  {
   "cell_type": "code",
   "execution_count": 52,
   "id": "ab6a6d66-a238-4d98-a489-b6f55badf21b",
   "metadata": {},
   "outputs": [
    {
     "name": "stdout",
     "output_type": "stream",
     "text": [
      "{1997: 12000, 1998: 15000, 1999: 20000, 2000: 23000, 2001: 25000, 2002: 17000, 2003: 14000, 2004: 21000}\n"
     ]
    }
   ],
   "source": [
    "print(fatturati_dict)"
   ]
  },
  {
   "cell_type": "code",
   "execution_count": 53,
   "id": "93d1b628-6788-4d76-ae5e-7b768b58c9ed",
   "metadata": {},
   "outputs": [],
   "source": [
    "fatturati_series = pd.Series([12_000, 15_000, 20_000, 23_000, 25_000, 17_000, 14_000, 21_000], index=range(1997, 2005)) "
   ]
  },
  {
   "cell_type": "code",
   "execution_count": 54,
   "id": "da23dc8b-1dd9-4bb0-b0f4-fa98df001c76",
   "metadata": {},
   "outputs": [
    {
     "name": "stdout",
     "output_type": "stream",
     "text": [
      "1997    12000\n",
      "1998    15000\n",
      "1999    20000\n",
      "2000    23000\n",
      "2001    25000\n",
      "2002    17000\n",
      "2003    14000\n",
      "2004    21000\n",
      "dtype: int64\n"
     ]
    }
   ],
   "source": [
    "print(fatturati_series)"
   ]
  },
  {
   "cell_type": "code",
   "execution_count": null,
   "id": "7cc0343e-8202-4fb1-8c0c-2337d1a22a37",
   "metadata": {},
   "outputs": [],
   "source": [
    "\"\"\"\n",
    "dizionario struttura base dati python -> dati memorizzati con tipologia chiave valore. si riperiscono i dati in maniera diretta (chiav\n",
    "pandas -> gestione virtualizzata. libreria esternerna specializzata in series (monodimensione) e dataframe (+ dimensioni)\n",
    "series: ci falicita le operazioni medie max ecc cosa che non possiamo fare su dizionario\n",
    "\"\"\""
   ]
  },
  {
   "cell_type": "code",
   "execution_count": null,
   "id": "2e512f55-e3ec-48f7-8920-0fbd280e47a7",
   "metadata": {},
   "outputs": [],
   "source": [
    "\"\"\"\n",
    "Esercizio L'azienda Object SpA ha un dataset con tutti gli stipendi dei dipendenti, memorizzato in un ndarray: \n",
    "import numpy as np \n",
    "stipendi = np.array( [100, 200, 300, 400, 500,  600, 700, 800, 900, 1000] ) \n",
    "L'azienda ci chiede di raddoppiare tutti gli stipendi; facciamolo in due modi: \n",
    "• con un ciclo for\n",
    "• con il masking"
   ]
  },
  {
   "cell_type": "code",
   "execution_count": 63,
   "id": "317ccc3d-7a1c-475e-a2b5-08ed9966e5f3",
   "metadata": {},
   "outputs": [
    {
     "name": "stdout",
     "output_type": "stream",
     "text": [
      "200\n",
      "400\n",
      "600\n",
      "800\n",
      "1000\n",
      "1200\n",
      "1400\n",
      "1600\n",
      "1800\n",
      "2000\n"
     ]
    }
   ],
   "source": [
    "stipendi = [100, 200, 300, 400, 500,  600, 700, 800, 900, 1000]\n",
    "for stipendio in stipendi:\n",
    "    print(stipendio*2)\n",
    "    "
   ]
  },
  {
   "cell_type": "code",
   "execution_count": 66,
   "id": "dfb4647c-ac24-4964-9d1e-fe135361f542",
   "metadata": {},
   "outputs": [
    {
     "name": "stdout",
     "output_type": "stream",
     "text": [
      "[200, 400, 600, 800, 1000, 1200, 1400, 1600, 1800, 2000]\n"
     ]
    }
   ],
   "source": [
    "stipendi = [100, 200, 300, 400, 500,  600, 700, 800, 900, 1000]\n",
    "lista_stipendi_raddopiati = []\n",
    "for stipendio in stipendi:\n",
    "    lista_stipendi_raddopiati.append(stipendio*2)\n",
    "\n",
    "print(lista_stipendi_raddopiati)"
   ]
  },
  {
   "cell_type": "code",
   "execution_count": 62,
   "id": "27ce7ba6-bb0f-4bd7-abb6-330b96ba3a33",
   "metadata": {},
   "outputs": [
    {
     "data": {
      "text/plain": [
       "array([ 200,  400,  600,  800, 1000, 1200, 1400, 1600, 1800, 2000])"
      ]
     },
     "execution_count": 62,
     "metadata": {},
     "output_type": "execute_result"
    }
   ],
   "source": [
    "stipendi_array = np.array(stipendi)\n",
    "stipendi_array*2"
   ]
  },
  {
   "cell_type": "code",
   "execution_count": 72,
   "id": "c9b9e196-e380-4856-9bc3-39759cc9de90",
   "metadata": {},
   "outputs": [
    {
     "name": "stdout",
     "output_type": "stream",
     "text": [
      "enciclopedia\n",
      "atlante\n",
      "dizionario\n",
      "enciclopedia\n"
     ]
    }
   ],
   "source": [
    "libri =[\"enciclopedia\",\"atlante\",\"dizionario\",\"enciclopedia\"]\n",
    "\n",
    "for libro in libri:\n",
    "    print(libro)"
   ]
  },
  {
   "cell_type": "code",
   "execution_count": 73,
   "id": "48f291ec-86a4-450e-abcf-9cf079e375a1",
   "metadata": {},
   "outputs": [
    {
     "name": "stdout",
     "output_type": "stream",
     "text": [
      "0 enciclopedia\n",
      "1 atlante\n",
      "2 dizionario\n",
      "3 enciclopedia\n"
     ]
    }
   ],
   "source": [
    "for contatore, libro in enumerate(libri):\n",
    "    print(contatore, libro)"
   ]
  },
  {
   "cell_type": "code",
   "execution_count": 74,
   "id": "1535c53e-8121-4773-a007-770f9ed6301b",
   "metadata": {},
   "outputs": [
    {
     "name": "stdout",
     "output_type": "stream",
     "text": [
      "Anna ha 28 anni\n",
      "Bruno ha 34 anni\n",
      "Carla ha 29 anni\n"
     ]
    }
   ],
   "source": [
    "nomi = [\"Anna\",\"Bruno\",\"Carla\"]\n",
    "eta = [28,34,29]\n",
    "for nome, eta in zip(nomi, eta):                 \n",
    "    print(f\"{nome} ha {eta} anni\")         #f string, si usa molto"
   ]
  },
  {
   "cell_type": "code",
   "execution_count": null,
   "id": "15157fa9-e65c-4400-ae06-e0db433edd7f",
   "metadata": {},
   "outputs": [],
   "source": []
  }
 ],
 "metadata": {
  "kernelspec": {
   "display_name": "Python 3 (ipykernel)",
   "language": "python",
   "name": "python3"
  },
  "language_info": {
   "codemirror_mode": {
    "name": "ipython",
    "version": 3
   },
   "file_extension": ".py",
   "mimetype": "text/x-python",
   "name": "python",
   "nbconvert_exporter": "python",
   "pygments_lexer": "ipython3",
   "version": "3.11.7"
  }
 },
 "nbformat": 4,
 "nbformat_minor": 5
}
